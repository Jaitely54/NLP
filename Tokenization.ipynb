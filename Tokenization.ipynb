{
 "cells": [
  {
   "cell_type": "markdown",
   "metadata": {},
   "source": [
    "## **Tokenization**"
   ]
  },
  {
   "cell_type": "markdown",
   "metadata": {},
   "source": [
    "the process of converting a sequence of text into smaller parts, known as tokens."
   ]
  },
  {
   "cell_type": "code",
   "execution_count": 35,
   "metadata": {},
   "outputs": [],
   "source": [
    "corpus = '''\n",
    "hi there! myself kritish jaitely,\n",
    "i am btech final year student studing in ICFAI university, Dehradun.\n",
    "i'm from meerut, UP.\n",
    "'''"
   ]
  },
  {
   "cell_type": "code",
   "execution_count": 36,
   "metadata": {},
   "outputs": [],
   "source": [
    "\n",
    "#* This will convert the paragraph into sentences \n",
    "import nltk\n",
    "from nltk.tokenize import sent_tokenize"
   ]
  },
  {
   "cell_type": "code",
   "execution_count": 37,
   "metadata": {},
   "outputs": [
    {
     "data": {
      "text/plain": [
       "['\\nhi there!',\n",
       " 'myself kritish jaitely,\\ni am btech final year student studing in ICFAI university, Dehradun.',\n",
       " \"i'm from meerut, UP.\"]"
      ]
     },
     "execution_count": 37,
     "metadata": {},
     "output_type": "execute_result"
    }
   ],
   "source": [
    "sent = sent_tokenize(corpus)\n",
    "sent"
   ]
  },
  {
   "cell_type": "markdown",
   "metadata": {},
   "source": [
    "**The corpus(Paragraph) is now converted into a sentence & has been stored into the variable sent**"
   ]
  },
  {
   "cell_type": "code",
   "execution_count": 38,
   "metadata": {},
   "outputs": [],
   "source": [
    "\n",
    "#* This will convert the sentences into words \n",
    "import nltk\n",
    "from nltk.tokenize import word_tokenize"
   ]
  },
  {
   "cell_type": "code",
   "execution_count": 39,
   "metadata": {},
   "outputs": [
    {
     "data": {
      "text/plain": [
       "['hi',\n",
       " 'there',\n",
       " '!',\n",
       " 'myself',\n",
       " 'kritish',\n",
       " 'jaitely',\n",
       " ',',\n",
       " 'i',\n",
       " 'am',\n",
       " 'btech',\n",
       " 'final',\n",
       " 'year',\n",
       " 'student',\n",
       " 'studing',\n",
       " 'in',\n",
       " 'ICFAI',\n",
       " 'university',\n",
       " ',',\n",
       " 'Dehradun',\n",
       " '.',\n",
       " 'i',\n",
       " \"'m\",\n",
       " 'from',\n",
       " 'meerut',\n",
       " ',',\n",
       " 'UP',\n",
       " '.']"
      ]
     },
     "execution_count": 39,
     "metadata": {},
     "output_type": "execute_result"
    }
   ],
   "source": [
    "words = word_tokenize(corpus)\n",
    "words"
   ]
  },
  {
   "cell_type": "markdown",
   "metadata": {},
   "source": [
    "**The corpus(Paragraph) is now converted into a words & has been stored into the variable words**"
   ]
  },
  {
   "cell_type": "code",
   "execution_count": 42,
   "metadata": {},
   "outputs": [],
   "source": [
    "from nltk import wordpunct_tokenize"
   ]
  },
  {
   "cell_type": "code",
   "execution_count": 43,
   "metadata": {},
   "outputs": [],
   "source": [
    "detailed_words = wordpunct_tokenize(corpus)"
   ]
  },
  {
   "cell_type": "code",
   "execution_count": 44,
   "metadata": {},
   "outputs": [
    {
     "data": {
      "text/plain": [
       "['hi',\n",
       " 'there',\n",
       " '!',\n",
       " 'myself',\n",
       " 'kritish',\n",
       " 'jaitely',\n",
       " ',',\n",
       " 'i',\n",
       " 'am',\n",
       " 'btech',\n",
       " 'final',\n",
       " 'year',\n",
       " 'student',\n",
       " 'studing',\n",
       " 'in',\n",
       " 'ICFAI',\n",
       " 'university',\n",
       " ',',\n",
       " 'Dehradun',\n",
       " '.',\n",
       " 'i',\n",
       " \"'\",\n",
       " 'm',\n",
       " 'from',\n",
       " 'meerut',\n",
       " ',',\n",
       " 'UP',\n",
       " '.']"
      ]
     },
     "execution_count": 44,
     "metadata": {},
     "output_type": "execute_result"
    }
   ],
   "source": [
    "detailed_words"
   ]
  },
  {
   "cell_type": "markdown",
   "metadata": {},
   "source": [
    "**The corpus(Paragraph) is now converted in a more detailed version than the word_tokenize**"
   ]
  },
  {
   "cell_type": "code",
   "execution_count": 51,
   "metadata": {},
   "outputs": [],
   "source": [
    "from nltk.tokenize import TreebankWordTokenizer"
   ]
  },
  {
   "cell_type": "code",
   "execution_count": 54,
   "metadata": {},
   "outputs": [],
   "source": [
    "tokenizer = TreebankWordTokenizer()"
   ]
  },
  {
   "cell_type": "code",
   "execution_count": 55,
   "metadata": {},
   "outputs": [
    {
     "data": {
      "text/plain": [
       "['hi',\n",
       " 'there',\n",
       " '!',\n",
       " 'myself',\n",
       " 'kritish',\n",
       " 'jaitely',\n",
       " ',',\n",
       " 'i',\n",
       " 'am',\n",
       " 'btech',\n",
       " 'final',\n",
       " 'year',\n",
       " 'student',\n",
       " 'studing',\n",
       " 'in',\n",
       " 'ICFAI',\n",
       " 'university',\n",
       " ',',\n",
       " 'Dehradun.',\n",
       " 'i',\n",
       " \"'m\",\n",
       " 'from',\n",
       " 'meerut',\n",
       " ',',\n",
       " 'UP',\n",
       " '.']"
      ]
     },
     "execution_count": 55,
     "metadata": {},
     "output_type": "execute_result"
    }
   ],
   "source": [
    "tokenizer.tokenize(corpus)"
   ]
  },
  {
   "cell_type": "markdown",
   "metadata": {},
   "source": [
    "**TreeBankWordTokenizer: The Game of Line ends and fullstop**\n",
    "**[Need to study about that]**"
   ]
  },
  {
   "cell_type": "code",
   "execution_count": null,
   "metadata": {},
   "outputs": [],
   "source": []
  }
 ],
 "metadata": {
  "kernelspec": {
   "display_name": "Python 3",
   "language": "python",
   "name": "python3"
  },
  "language_info": {
   "codemirror_mode": {
    "name": "ipython",
    "version": 3
   },
   "file_extension": ".py",
   "mimetype": "text/x-python",
   "name": "python",
   "nbconvert_exporter": "python",
   "pygments_lexer": "ipython3",
   "version": "3.11.4"
  }
 },
 "nbformat": 4,
 "nbformat_minor": 2
}
